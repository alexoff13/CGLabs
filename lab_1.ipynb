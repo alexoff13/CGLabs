{
 "cells": [
  {
   "cell_type": "markdown",
   "metadata": {
    "pycharm": {
     "name": "#%% md\n"
    }
   },
   "source": [
    "**Author**: Davydov Alexey  \n",
    "**Date**: 05.03.2022  \n",
    "**Description**: Написать функцию для отрисовки двух прямых под углом, функция должна принимать на вход начальную точку, угол и длину прямых"
   ]
  },
  {
   "cell_type": "code",
   "execution_count": 8,
   "metadata": {
    "pycharm": {
     "name": "#%%\n"
    }
   },
   "outputs": [],
   "source": [
    "# импорт библиотек\n",
    "from PIL import Image, ImageDraw\n",
    "import math\n",
    "\n",
    "# создаем обьект изображения и кисть\n",
    "im = Image.new('RGB', (500, 300), (255, 255, 255))\n",
    "draw = ImageDraw.Draw(im)\n"
   ]
  },
  {
   "cell_type": "code",
   "execution_count": 9,
   "metadata": {
    "pycharm": {
     "name": "#%%\n"
    }
   },
   "outputs": [],
   "source": [
    "def draw_with_angle(x1: int, y1: int, length: int, angle: int) -> None:\n",
    "    \"\"\"Функция для отрисовки двух прямых под углом\n",
    "\n",
    "    :param x1: Координата X точки начала\n",
    "    :param y1: Координата Y точки начала\n",
    "    :param length: Длина прямых\n",
    "    :param angle: Величина угла в градусах\n",
    "    \"\"\"\n",
    "    # переводим угол в радианы\n",
    "    angle_rad = angle / 180 * math.pi\n",
    "\n",
    "    x2 = x1 + math.cos(0) * length\n",
    "    y2 = y1 + math.sin(0) * length\n",
    "    # отрисовываем первую горизонтальную линию\n",
    "    draw.line((x1, y1, x2, y2), fill='black', width=1)\n",
    "\n",
    "    x2 = x1 + math.cos(angle_rad) * 100\n",
    "    y2 = y1 + math.sin(angle_rad) * 100\n",
    "    # отрисовываем линию под углом\n",
    "    draw.line((x1, y1, x2, y2), fill='black', width=1)\n"
   ]
  },
  {
   "cell_type": "code",
   "execution_count": 10,
   "metadata": {
    "pycharm": {
     "name": "#%%\n"
    }
   },
   "outputs": [],
   "source": [
    "draw_with_angle(x1=200, y1=100, length=100, angle=395)\n",
    "im.save('data/lab_1.png')\n"
   ]
  },
  {
   "cell_type": "code",
   "execution_count": 11,
   "metadata": {
    "pycharm": {
     "name": "#%%\n"
    }
   },
   "outputs": [
    {
     "data": {
      "image/png": "[encoded data removed]",
      "text/plain": [
       "<IPython.core.display.Image object>"
      ]
     },
     "metadata": {},
     "output_type": "display_data"
    }
   ],
   "source": [
    "from IPython.display import Image, display\n",
    "display(Image('data/lab_1.png'))\n"
   ]
  },
  {
   "cell_type": "code",
   "execution_count": 7,
   "metadata": {
    "pycharm": {
     "name": "#%%\n"
    }
   },
   "outputs": [
    {
     "name": "stdout",
     "output_type": "stream",
     "text": [
      "(16, 0, 1)\n"
     ]
    }
   ],
   "source": [
    "def req(masqit = 0, days = 0):\n",
    "  if (masqit > 100):\n",
    "    return days, masqit\n",
    "  return round(masqit * 1.2) + 2, 0 if req(masqit * 1.2) % int(masqit * 1.2) > 0.5 else round((masqit + 0.5) * 1.2) + 2, days + 1\n",
    "\n",
    "print(req(12))"
   ]
  },
  {
   "cell_type": "code",
   "execution_count": null,
   "metadata": {
    "pycharm": {
     "name": "#%%\n"
    }
   },
   "outputs": [],
   "source": []
  }
 ],
 "metadata": {
  "interpreter": {
   "hash": "c67edcd1bdee08205469cf5449359bb1b214164f0edc911807ba21de78b13c23"
  },
  "kernelspec": {
   "display_name": "Python 3.9.10 ('venv': venv)",
   "language": "python",
   "name": "python3"
  },
  "language_info": {
   "codemirror_mode": {
    "name": "ipython",
    "version": 3
   },
   "file_extension": ".py",
   "mimetype": "text/x-python",
   "name": "python",
   "nbconvert_exporter": "python",
   "pygments_lexer": "ipython3",
   "version": "3.9.12"
  },
  "orig_nbformat": 4
 },
 "nbformat": 4,
 "nbformat_minor": 2
}